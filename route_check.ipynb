{
 "cells": [
  {
   "cell_type": "code",
   "execution_count": 1,
   "metadata": {},
   "outputs": [
    {
     "data": {
      "text/plain": [
       "'c:\\\\Dohee\\\\DataScience'"
      ]
     },
     "execution_count": 1,
     "metadata": {},
     "output_type": "execute_result"
    }
   ],
   "source": [
    "%pwd"
   ]
  },
  {
   "cell_type": "code",
   "execution_count": 2,
   "metadata": {},
   "outputs": [
    {
     "data": {
      "text/plain": [
       "<function nt.getcwd()>"
      ]
     },
     "execution_count": 2,
     "metadata": {},
     "output_type": "execute_result"
    }
   ],
   "source": [
    "import os\n",
    "os.getcwd"
   ]
  },
  {
   "cell_type": "code",
   "execution_count": 3,
   "metadata": {},
   "outputs": [],
   "source": [
    "import pandas as pd "
   ]
  },
  {
   "cell_type": "markdown",
   "metadata": {},
   "source": [
    "* 경로 확인 하는 방법 glob 라는 파이썬 함수 사용    \n",
    "특정 데이터에 어떤 파일이 있는지 확인 할 수 있"
   ]
  },
  {
   "cell_type": "code",
   "execution_count": 7,
   "metadata": {},
   "outputs": [
    {
     "data": {
      "text/plain": [
       "['data\\\\도로교통공단_월별 주야별 교통사고 통계_20231231.csv']"
      ]
     },
     "execution_count": 7,
     "metadata": {},
     "output_type": "execute_result"
    }
   ],
   "source": [
    "from glob import glob\n",
    "\n",
    "glob(\"data/*\")"
   ]
  },
  {
   "cell_type": "code",
   "execution_count": 8,
   "metadata": {},
   "outputs": [
    {
     "data": {
      "text/plain": [
       "'data\\\\도로교통공단_월별 주야별 교통사고 통계_20231231.csv'"
      ]
     },
     "execution_count": 8,
     "metadata": {},
     "output_type": "execute_result"
    }
   ],
   "source": [
    "file_name = glob(\"data/*\")[0]\n",
    "file_name"
   ]
  },
  {
   "cell_type": "code",
   "execution_count": 6,
   "metadata": {},
   "outputs": [
    {
     "data": {
      "text/html": [
       "<div>\n",
       "<style scoped>\n",
       "    .dataframe tbody tr th:only-of-type {\n",
       "        vertical-align: middle;\n",
       "    }\n",
       "\n",
       "    .dataframe tbody tr th {\n",
       "        vertical-align: top;\n",
       "    }\n",
       "\n",
       "    .dataframe thead th {\n",
       "        text-align: right;\n",
       "    }\n",
       "</style>\n",
       "<table border=\"1\" class=\"dataframe\">\n",
       "  <thead>\n",
       "    <tr style=\"text-align: right;\">\n",
       "      <th></th>\n",
       "      <th>발생월</th>\n",
       "      <th>주야</th>\n",
       "      <th>사고건수</th>\n",
       "      <th>사망자수</th>\n",
       "      <th>중상자수</th>\n",
       "      <th>경상자수</th>\n",
       "      <th>부상신고자수</th>\n",
       "    </tr>\n",
       "  </thead>\n",
       "  <tbody>\n",
       "    <tr>\n",
       "      <th>0</th>\n",
       "      <td>1</td>\n",
       "      <td>주</td>\n",
       "      <td>8682</td>\n",
       "      <td>98</td>\n",
       "      <td>2209</td>\n",
       "      <td>9440</td>\n",
       "      <td>759</td>\n",
       "    </tr>\n",
       "    <tr>\n",
       "      <th>1</th>\n",
       "      <td>1</td>\n",
       "      <td>야</td>\n",
       "      <td>5798</td>\n",
       "      <td>92</td>\n",
       "      <td>1539</td>\n",
       "      <td>6349</td>\n",
       "      <td>530</td>\n",
       "    </tr>\n",
       "    <tr>\n",
       "      <th>2</th>\n",
       "      <td>2</td>\n",
       "      <td>주</td>\n",
       "      <td>8056</td>\n",
       "      <td>95</td>\n",
       "      <td>2149</td>\n",
       "      <td>8710</td>\n",
       "      <td>710</td>\n",
       "    </tr>\n",
       "    <tr>\n",
       "      <th>3</th>\n",
       "      <td>2</td>\n",
       "      <td>야</td>\n",
       "      <td>5228</td>\n",
       "      <td>86</td>\n",
       "      <td>1419</td>\n",
       "      <td>5553</td>\n",
       "      <td>500</td>\n",
       "    </tr>\n",
       "    <tr>\n",
       "      <th>4</th>\n",
       "      <td>3</td>\n",
       "      <td>주</td>\n",
       "      <td>10393</td>\n",
       "      <td>109</td>\n",
       "      <td>2600</td>\n",
       "      <td>11132</td>\n",
       "      <td>880</td>\n",
       "    </tr>\n",
       "    <tr>\n",
       "      <th>5</th>\n",
       "      <td>3</td>\n",
       "      <td>야</td>\n",
       "      <td>5607</td>\n",
       "      <td>78</td>\n",
       "      <td>1449</td>\n",
       "      <td>5930</td>\n",
       "      <td>467</td>\n",
       "    </tr>\n",
       "    <tr>\n",
       "      <th>6</th>\n",
       "      <td>4</td>\n",
       "      <td>주</td>\n",
       "      <td>10460</td>\n",
       "      <td>93</td>\n",
       "      <td>2797</td>\n",
       "      <td>11356</td>\n",
       "      <td>1055</td>\n",
       "    </tr>\n",
       "    <tr>\n",
       "      <th>7</th>\n",
       "      <td>4</td>\n",
       "      <td>야</td>\n",
       "      <td>5876</td>\n",
       "      <td>89</td>\n",
       "      <td>1609</td>\n",
       "      <td>6181</td>\n",
       "      <td>551</td>\n",
       "    </tr>\n",
       "    <tr>\n",
       "      <th>8</th>\n",
       "      <td>5</td>\n",
       "      <td>주</td>\n",
       "      <td>11668</td>\n",
       "      <td>135</td>\n",
       "      <td>3132</td>\n",
       "      <td>12618</td>\n",
       "      <td>1178</td>\n",
       "    </tr>\n",
       "    <tr>\n",
       "      <th>9</th>\n",
       "      <td>5</td>\n",
       "      <td>야</td>\n",
       "      <td>5884</td>\n",
       "      <td>68</td>\n",
       "      <td>1576</td>\n",
       "      <td>6233</td>\n",
       "      <td>603</td>\n",
       "    </tr>\n",
       "    <tr>\n",
       "      <th>10</th>\n",
       "      <td>6</td>\n",
       "      <td>주</td>\n",
       "      <td>10962</td>\n",
       "      <td>114</td>\n",
       "      <td>2881</td>\n",
       "      <td>11797</td>\n",
       "      <td>1092</td>\n",
       "    </tr>\n",
       "    <tr>\n",
       "      <th>11</th>\n",
       "      <td>6</td>\n",
       "      <td>야</td>\n",
       "      <td>5754</td>\n",
       "      <td>88</td>\n",
       "      <td>1601</td>\n",
       "      <td>5893</td>\n",
       "      <td>613</td>\n",
       "    </tr>\n",
       "    <tr>\n",
       "      <th>12</th>\n",
       "      <td>7</td>\n",
       "      <td>주</td>\n",
       "      <td>10647</td>\n",
       "      <td>105</td>\n",
       "      <td>2755</td>\n",
       "      <td>11552</td>\n",
       "      <td>1138</td>\n",
       "    </tr>\n",
       "    <tr>\n",
       "      <th>13</th>\n",
       "      <td>7</td>\n",
       "      <td>야</td>\n",
       "      <td>5931</td>\n",
       "      <td>100</td>\n",
       "      <td>1554</td>\n",
       "      <td>6165</td>\n",
       "      <td>549</td>\n",
       "    </tr>\n",
       "    <tr>\n",
       "      <th>14</th>\n",
       "      <td>8</td>\n",
       "      <td>주</td>\n",
       "      <td>11185</td>\n",
       "      <td>136</td>\n",
       "      <td>2990</td>\n",
       "      <td>12252</td>\n",
       "      <td>1111</td>\n",
       "    </tr>\n",
       "    <tr>\n",
       "      <th>15</th>\n",
       "      <td>8</td>\n",
       "      <td>야</td>\n",
       "      <td>6027</td>\n",
       "      <td>110</td>\n",
       "      <td>1632</td>\n",
       "      <td>6287</td>\n",
       "      <td>641</td>\n",
       "    </tr>\n",
       "    <tr>\n",
       "      <th>16</th>\n",
       "      <td>9</td>\n",
       "      <td>주</td>\n",
       "      <td>11458</td>\n",
       "      <td>130</td>\n",
       "      <td>3063</td>\n",
       "      <td>12396</td>\n",
       "      <td>1119</td>\n",
       "    </tr>\n",
       "    <tr>\n",
       "      <th>17</th>\n",
       "      <td>9</td>\n",
       "      <td>야</td>\n",
       "      <td>6402</td>\n",
       "      <td>109</td>\n",
       "      <td>1777</td>\n",
       "      <td>6559</td>\n",
       "      <td>737</td>\n",
       "    </tr>\n",
       "    <tr>\n",
       "      <th>18</th>\n",
       "      <td>10</td>\n",
       "      <td>주</td>\n",
       "      <td>11039</td>\n",
       "      <td>141</td>\n",
       "      <td>3186</td>\n",
       "      <td>11609</td>\n",
       "      <td>1102</td>\n",
       "    </tr>\n",
       "    <tr>\n",
       "      <th>19</th>\n",
       "      <td>10</td>\n",
       "      <td>야</td>\n",
       "      <td>6294</td>\n",
       "      <td>124</td>\n",
       "      <td>1814</td>\n",
       "      <td>6383</td>\n",
       "      <td>559</td>\n",
       "    </tr>\n",
       "    <tr>\n",
       "      <th>20</th>\n",
       "      <td>11</td>\n",
       "      <td>주</td>\n",
       "      <td>11397</td>\n",
       "      <td>139</td>\n",
       "      <td>3143</td>\n",
       "      <td>12183</td>\n",
       "      <td>1081</td>\n",
       "    </tr>\n",
       "    <tr>\n",
       "      <th>21</th>\n",
       "      <td>11</td>\n",
       "      <td>야</td>\n",
       "      <td>6351</td>\n",
       "      <td>118</td>\n",
       "      <td>1706</td>\n",
       "      <td>6565</td>\n",
       "      <td>620</td>\n",
       "    </tr>\n",
       "    <tr>\n",
       "      <th>22</th>\n",
       "      <td>12</td>\n",
       "      <td>주</td>\n",
       "      <td>10540</td>\n",
       "      <td>107</td>\n",
       "      <td>2691</td>\n",
       "      <td>11407</td>\n",
       "      <td>1003</td>\n",
       "    </tr>\n",
       "    <tr>\n",
       "      <th>23</th>\n",
       "      <td>12</td>\n",
       "      <td>야</td>\n",
       "      <td>6657</td>\n",
       "      <td>87</td>\n",
       "      <td>1717</td>\n",
       "      <td>7019</td>\n",
       "      <td>643</td>\n",
       "    </tr>\n",
       "  </tbody>\n",
       "</table>\n",
       "</div>"
      ],
      "text/plain": [
       "    발생월 주야   사고건수  사망자수  중상자수   경상자수  부상신고자수\n",
       "0     1  주   8682    98  2209   9440     759\n",
       "1     1  야   5798    92  1539   6349     530\n",
       "2     2  주   8056    95  2149   8710     710\n",
       "3     2  야   5228    86  1419   5553     500\n",
       "4     3  주  10393   109  2600  11132     880\n",
       "5     3  야   5607    78  1449   5930     467\n",
       "6     4  주  10460    93  2797  11356    1055\n",
       "7     4  야   5876    89  1609   6181     551\n",
       "8     5  주  11668   135  3132  12618    1178\n",
       "9     5  야   5884    68  1576   6233     603\n",
       "10    6  주  10962   114  2881  11797    1092\n",
       "11    6  야   5754    88  1601   5893     613\n",
       "12    7  주  10647   105  2755  11552    1138\n",
       "13    7  야   5931   100  1554   6165     549\n",
       "14    8  주  11185   136  2990  12252    1111\n",
       "15    8  야   6027   110  1632   6287     641\n",
       "16    9  주  11458   130  3063  12396    1119\n",
       "17    9  야   6402   109  1777   6559     737\n",
       "18   10  주  11039   141  3186  11609    1102\n",
       "19   10  야   6294   124  1814   6383     559\n",
       "20   11  주  11397   139  3143  12183    1081\n",
       "21   11  야   6351   118  1706   6565     620\n",
       "22   12  주  10540   107  2691  11407    1003\n",
       "23   12  야   6657    87  1717   7019     643"
      ]
     },
     "execution_count": 6,
     "metadata": {},
     "output_type": "execute_result"
    }
   ],
   "source": [
    "pd.read_csv(\"data/도로교통공단_월별 주야별 교통사고 통계_20231231.csv\", encoding=\"cp949\")"
   ]
  },
  {
   "cell_type": "code",
   "execution_count": 11,
   "metadata": {},
   "outputs": [
    {
     "name": "stdout",
     "output_type": "stream",
     "text": [
      "['python', 'java']\n"
     ]
    }
   ],
   "source": [
    "lang = [\"python\"]\n",
    "lang.append(\"java\")\n",
    "print(lang)"
   ]
  },
  {
   "cell_type": "code",
   "execution_count": null,
   "metadata": {},
   "outputs": [],
   "source": []
  }
 ],
 "metadata": {
  "kernelspec": {
   "display_name": "Python 3",
   "language": "python",
   "name": "python3"
  },
  "language_info": {
   "codemirror_mode": {
    "name": "ipython",
    "version": 3
   },
   "file_extension": ".py",
   "mimetype": "text/x-python",
   "name": "python",
   "nbconvert_exporter": "python",
   "pygments_lexer": "ipython3",
   "version": "3.11.9"
  }
 },
 "nbformat": 4,
 "nbformat_minor": 2
}
